{
 "cells": [
  {
   "cell_type": "markdown",
   "metadata": {},
   "source": [
    "# Diabetes data set: Biostatistical Project"
   ]
  },
  {
   "cell_type": "code",
   "execution_count": 1,
   "metadata": {},
   "outputs": [
    {
     "name": "stderr",
     "output_type": "stream",
     "text": [
      "Warning message:\n",
      "\"package 'tidyr' was built under R version 3.6.3\"\n",
      "Warning message:\n",
      "\"package 'psych' was built under R version 3.6.3\"\n",
      "Warning message:\n",
      "\"package 'imputeMissings' was built under R version 3.6.3\"\n",
      "Warning message:\n",
      "\"package 'caret' was built under R version 3.6.3\"\n",
      "Loading required package: lattice\n",
      "\n",
      "Loading required package: ggplot2\n",
      "\n",
      "Warning message:\n",
      "\"package 'ggplot2' was built under R version 3.6.3\"\n",
      "\n",
      "Attaching package: 'ggplot2'\n",
      "\n",
      "\n",
      "The following objects are masked from 'package:psych':\n",
      "\n",
      "    %+%, alpha\n",
      "\n",
      "\n"
     ]
    }
   ],
   "source": [
    "# Load packages\n",
    "library(tidyr)\n",
    "library(psych)\n",
    "library(imputeMissings)\n",
    "library(caret)\n",
    "theme_set(theme_bw())"
   ]
  },
  {
   "cell_type": "code",
   "execution_count": 2,
   "metadata": {},
   "outputs": [
    {
     "data": {
      "text/html": [
       "<table>\n",
       "<caption>A data.frame: 6 × 19</caption>\n",
       "<thead>\n",
       "\t<tr><th></th><th scope=col>id</th><th scope=col>chol</th><th scope=col>stab.glu</th><th scope=col>hdl</th><th scope=col>ratio</th><th scope=col>glyhb</th><th scope=col>location</th><th scope=col>age</th><th scope=col>gender</th><th scope=col>height</th><th scope=col>weight</th><th scope=col>frame</th><th scope=col>bp.1s</th><th scope=col>bp.1d</th><th scope=col>bp.2s</th><th scope=col>bp.2d</th><th scope=col>waist</th><th scope=col>hip</th><th scope=col>time.ppn</th></tr>\n",
       "\t<tr><th></th><th scope=col>&lt;int&gt;</th><th scope=col>&lt;int&gt;</th><th scope=col>&lt;int&gt;</th><th scope=col>&lt;int&gt;</th><th scope=col>&lt;dbl&gt;</th><th scope=col>&lt;dbl&gt;</th><th scope=col>&lt;fct&gt;</th><th scope=col>&lt;int&gt;</th><th scope=col>&lt;fct&gt;</th><th scope=col>&lt;int&gt;</th><th scope=col>&lt;int&gt;</th><th scope=col>&lt;fct&gt;</th><th scope=col>&lt;int&gt;</th><th scope=col>&lt;int&gt;</th><th scope=col>&lt;int&gt;</th><th scope=col>&lt;int&gt;</th><th scope=col>&lt;int&gt;</th><th scope=col>&lt;int&gt;</th><th scope=col>&lt;int&gt;</th></tr>\n",
       "</thead>\n",
       "<tbody>\n",
       "\t<tr><th scope=row>1</th><td>1000</td><td>203</td><td>82</td><td>56</td><td>3.6</td><td>4.31</td><td>Buckingham</td><td>46</td><td>female</td><td>62</td><td>121</td><td>medium</td><td>118</td><td>59</td><td> NA</td><td>NA</td><td>29</td><td>38</td><td>720</td></tr>\n",
       "\t<tr><th scope=row>2</th><td>1001</td><td>165</td><td>97</td><td>24</td><td>6.9</td><td>4.44</td><td>Buckingham</td><td>29</td><td>female</td><td>64</td><td>218</td><td>large </td><td>112</td><td>68</td><td> NA</td><td>NA</td><td>46</td><td>48</td><td>360</td></tr>\n",
       "\t<tr><th scope=row>3</th><td>1002</td><td>228</td><td>92</td><td>37</td><td>6.2</td><td>4.64</td><td>Buckingham</td><td>58</td><td>female</td><td>61</td><td>256</td><td>large </td><td>190</td><td>92</td><td>185</td><td>92</td><td>49</td><td>57</td><td>180</td></tr>\n",
       "\t<tr><th scope=row>4</th><td>1003</td><td> 78</td><td>93</td><td>12</td><td>6.5</td><td>4.63</td><td>Buckingham</td><td>67</td><td>male  </td><td>67</td><td>119</td><td>large </td><td>110</td><td>50</td><td> NA</td><td>NA</td><td>33</td><td>38</td><td>480</td></tr>\n",
       "\t<tr><th scope=row>5</th><td>1005</td><td>249</td><td>90</td><td>28</td><td>8.9</td><td>7.72</td><td>Buckingham</td><td>64</td><td>male  </td><td>68</td><td>183</td><td>medium</td><td>138</td><td>80</td><td> NA</td><td>NA</td><td>44</td><td>41</td><td>300</td></tr>\n",
       "\t<tr><th scope=row>6</th><td>1008</td><td>248</td><td>94</td><td>69</td><td>3.6</td><td>4.81</td><td>Buckingham</td><td>34</td><td>male  </td><td>71</td><td>190</td><td>large </td><td>132</td><td>86</td><td> NA</td><td>NA</td><td>36</td><td>42</td><td>195</td></tr>\n",
       "</tbody>\n",
       "</table>\n"
      ],
      "text/latex": [
       "A data.frame: 6 × 19\n",
       "\\begin{tabular}{r|lllllllllllllllllll}\n",
       "  & id & chol & stab.glu & hdl & ratio & glyhb & location & age & gender & height & weight & frame & bp.1s & bp.1d & bp.2s & bp.2d & waist & hip & time.ppn\\\\\n",
       "  & <int> & <int> & <int> & <int> & <dbl> & <dbl> & <fct> & <int> & <fct> & <int> & <int> & <fct> & <int> & <int> & <int> & <int> & <int> & <int> & <int>\\\\\n",
       "\\hline\n",
       "\t1 & 1000 & 203 & 82 & 56 & 3.6 & 4.31 & Buckingham & 46 & female & 62 & 121 & medium & 118 & 59 &  NA & NA & 29 & 38 & 720\\\\\n",
       "\t2 & 1001 & 165 & 97 & 24 & 6.9 & 4.44 & Buckingham & 29 & female & 64 & 218 & large  & 112 & 68 &  NA & NA & 46 & 48 & 360\\\\\n",
       "\t3 & 1002 & 228 & 92 & 37 & 6.2 & 4.64 & Buckingham & 58 & female & 61 & 256 & large  & 190 & 92 & 185 & 92 & 49 & 57 & 180\\\\\n",
       "\t4 & 1003 &  78 & 93 & 12 & 6.5 & 4.63 & Buckingham & 67 & male   & 67 & 119 & large  & 110 & 50 &  NA & NA & 33 & 38 & 480\\\\\n",
       "\t5 & 1005 & 249 & 90 & 28 & 8.9 & 7.72 & Buckingham & 64 & male   & 68 & 183 & medium & 138 & 80 &  NA & NA & 44 & 41 & 300\\\\\n",
       "\t6 & 1008 & 248 & 94 & 69 & 3.6 & 4.81 & Buckingham & 34 & male   & 71 & 190 & large  & 132 & 86 &  NA & NA & 36 & 42 & 195\\\\\n",
       "\\end{tabular}\n"
      ],
      "text/markdown": [
       "\n",
       "A data.frame: 6 × 19\n",
       "\n",
       "| <!--/--> | id &lt;int&gt; | chol &lt;int&gt; | stab.glu &lt;int&gt; | hdl &lt;int&gt; | ratio &lt;dbl&gt; | glyhb &lt;dbl&gt; | location &lt;fct&gt; | age &lt;int&gt; | gender &lt;fct&gt; | height &lt;int&gt; | weight &lt;int&gt; | frame &lt;fct&gt; | bp.1s &lt;int&gt; | bp.1d &lt;int&gt; | bp.2s &lt;int&gt; | bp.2d &lt;int&gt; | waist &lt;int&gt; | hip &lt;int&gt; | time.ppn &lt;int&gt; |\n",
       "|---|---|---|---|---|---|---|---|---|---|---|---|---|---|---|---|---|---|---|---|\n",
       "| 1 | 1000 | 203 | 82 | 56 | 3.6 | 4.31 | Buckingham | 46 | female | 62 | 121 | medium | 118 | 59 |  NA | NA | 29 | 38 | 720 |\n",
       "| 2 | 1001 | 165 | 97 | 24 | 6.9 | 4.44 | Buckingham | 29 | female | 64 | 218 | large  | 112 | 68 |  NA | NA | 46 | 48 | 360 |\n",
       "| 3 | 1002 | 228 | 92 | 37 | 6.2 | 4.64 | Buckingham | 58 | female | 61 | 256 | large  | 190 | 92 | 185 | 92 | 49 | 57 | 180 |\n",
       "| 4 | 1003 |  78 | 93 | 12 | 6.5 | 4.63 | Buckingham | 67 | male   | 67 | 119 | large  | 110 | 50 |  NA | NA | 33 | 38 | 480 |\n",
       "| 5 | 1005 | 249 | 90 | 28 | 8.9 | 7.72 | Buckingham | 64 | male   | 68 | 183 | medium | 138 | 80 |  NA | NA | 44 | 41 | 300 |\n",
       "| 6 | 1008 | 248 | 94 | 69 | 3.6 | 4.81 | Buckingham | 34 | male   | 71 | 190 | large  | 132 | 86 |  NA | NA | 36 | 42 | 195 |\n",
       "\n"
      ],
      "text/plain": [
       "  id   chol stab.glu hdl ratio glyhb location   age gender height weight frame \n",
       "1 1000 203  82       56  3.6   4.31  Buckingham 46  female 62     121    medium\n",
       "2 1001 165  97       24  6.9   4.44  Buckingham 29  female 64     218    large \n",
       "3 1002 228  92       37  6.2   4.64  Buckingham 58  female 61     256    large \n",
       "4 1003  78  93       12  6.5   4.63  Buckingham 67  male   67     119    large \n",
       "5 1005 249  90       28  8.9   7.72  Buckingham 64  male   68     183    medium\n",
       "6 1008 248  94       69  3.6   4.81  Buckingham 34  male   71     190    large \n",
       "  bp.1s bp.1d bp.2s bp.2d waist hip time.ppn\n",
       "1 118   59     NA   NA    29    38  720     \n",
       "2 112   68     NA   NA    46    48  360     \n",
       "3 190   92    185   92    49    57  180     \n",
       "4 110   50     NA   NA    33    38  480     \n",
       "5 138   80     NA   NA    44    41  300     \n",
       "6 132   86     NA   NA    36    42  195     "
      ]
     },
     "metadata": {},
     "output_type": "display_data"
    }
   ],
   "source": [
    "# Read in data\n",
    "data <- read.csv(\"http://biostat.mc.vanderbilt.edu/wiki/pub/Main/DataSets/diabetes.csv\")\n",
    "head(data)"
   ]
  },
  {
   "cell_type": "code",
   "execution_count": 3,
   "metadata": {},
   "outputs": [],
   "source": [
    "# Create categorical diagnosis\n",
    "data$diabetes <- as.factor(ifelse(data$glyhb>7,\"yes\",\"no\"))\n",
    "\n",
    "# Remove those with uncertain diagnosis\n",
    "data_missing_diag <- subset(data,is.na(diabetes)==TRUE)\n",
    "data <- subset(data,is.na(diabetes)==FALSE)"
   ]
  },
  {
   "cell_type": "markdown",
   "metadata": {},
   "source": [
    "### Descriptive statistics"
   ]
  },
  {
   "cell_type": "code",
   "execution_count": 4,
   "metadata": {},
   "outputs": [
    {
     "data": {
      "text/html": [
       "<table>\n",
       "<caption>A psych: 15 × 13</caption>\n",
       "<thead>\n",
       "\t<tr><th></th><th scope=col>vars</th><th scope=col>n</th><th scope=col>mean</th><th scope=col>sd</th><th scope=col>median</th><th scope=col>trimmed</th><th scope=col>mad</th><th scope=col>min</th><th scope=col>max</th><th scope=col>range</th><th scope=col>skew</th><th scope=col>kurtosis</th><th scope=col>se</th></tr>\n",
       "\t<tr><th></th><th scope=col>&lt;int&gt;</th><th scope=col>&lt;dbl&gt;</th><th scope=col>&lt;dbl&gt;</th><th scope=col>&lt;dbl&gt;</th><th scope=col>&lt;dbl&gt;</th><th scope=col>&lt;dbl&gt;</th><th scope=col>&lt;dbl&gt;</th><th scope=col>&lt;dbl&gt;</th><th scope=col>&lt;dbl&gt;</th><th scope=col>&lt;dbl&gt;</th><th scope=col>&lt;dbl&gt;</th><th scope=col>&lt;dbl&gt;</th><th scope=col>&lt;dbl&gt;</th></tr>\n",
       "</thead>\n",
       "<tbody>\n",
       "\t<tr><th scope=row>chol</th><td> 1</td><td>389</td><td>207.275064</td><td> 44.714950</td><td>203.00</td><td>204.290735</td><td> 37.0650000</td><td> 78.00</td><td> 443.00</td><td> 365.00</td><td>0.9508887</td><td> 2.58740526</td><td> 2.26713794</td></tr>\n",
       "\t<tr><th scope=row>stab.glu</th><td> 2</td><td>390</td><td>107.338462</td><td> 53.798188</td><td> 90.00</td><td> 95.032051</td><td> 17.7912000</td><td> 48.00</td><td> 385.00</td><td> 337.00</td><td>2.6903022</td><td> 7.73431272</td><td> 2.72417715</td></tr>\n",
       "\t<tr><th scope=row>hdl</th><td> 3</td><td>389</td><td> 50.267352</td><td> 17.301317</td><td> 46.00</td><td> 48.325879</td><td> 14.8260000</td><td> 12.00</td><td> 120.00</td><td> 108.00</td><td>1.2178258</td><td> 2.04136970</td><td> 0.87721157</td></tr>\n",
       "\t<tr><th scope=row>ratio</th><td> 4</td><td>389</td><td>  4.526478</td><td>  1.738480</td><td>  4.20</td><td>  4.360383</td><td>  1.6308599</td><td>  1.50</td><td>  19.30</td><td>  17.80</td><td>2.2236862</td><td>13.24995688</td><td> 0.08814443</td></tr>\n",
       "\t<tr><th scope=row>glyhb</th><td> 5</td><td>390</td><td>  5.589769</td><td>  2.242595</td><td>  4.84</td><td>  5.111410</td><td>  0.8302559</td><td>  2.68</td><td>  16.11</td><td>  13.43</td><td>2.2288764</td><td> 4.98480242</td><td> 0.11355820</td></tr>\n",
       "\t<tr><th scope=row>age</th><td> 6</td><td>390</td><td> 46.774359</td><td> 16.435911</td><td> 44.50</td><td> 46.105769</td><td> 20.0151000</td><td> 19.00</td><td>  92.00</td><td>  73.00</td><td>0.3303502</td><td>-0.68196799</td><td> 0.83226473</td></tr>\n",
       "\t<tr><th scope=row>height</th><td> 7</td><td>385</td><td> 65.984416</td><td>  3.925712</td><td> 66.00</td><td> 65.948220</td><td>  4.4478000</td><td> 52.00</td><td>  76.00</td><td>  24.00</td><td>0.0167729</td><td>-0.22853516</td><td> 0.20007281</td></tr>\n",
       "\t<tr><th scope=row>weight</th><td> 8</td><td>389</td><td>177.349614</td><td> 40.443560</td><td>173.00</td><td>174.501597</td><td> 37.0650000</td><td> 99.00</td><td> 325.00</td><td> 226.00</td><td>0.7385736</td><td> 0.72015709</td><td> 2.05056991</td></tr>\n",
       "\t<tr><th scope=row>bp.1s</th><td> 9</td><td>385</td><td>137.148052</td><td> 22.997427</td><td>136.00</td><td>135.087379</td><td> 20.7564000</td><td> 90.00</td><td> 250.00</td><td> 160.00</td><td>1.0828997</td><td> 2.25686505</td><td> 1.17205743</td></tr>\n",
       "\t<tr><th scope=row>bp.1d</th><td>10</td><td>385</td><td> 83.285714</td><td> 13.582366</td><td> 82.00</td><td> 82.990291</td><td> 11.8608000</td><td> 48.00</td><td> 124.00</td><td>  76.00</td><td>0.2433600</td><td> 0.04508635</td><td> 0.69222145</td></tr>\n",
       "\t<tr><th scope=row>bp.2s</th><td>11</td><td>138</td><td>152.840580</td><td> 21.709847</td><td>150.00</td><td>150.812500</td><td> 17.7912000</td><td>110.00</td><td> 238.00</td><td> 128.00</td><td>1.1605373</td><td> 2.33779901</td><td> 1.84806492</td></tr>\n",
       "\t<tr><th scope=row>bp.2d</th><td>12</td><td>138</td><td> 92.731884</td><td> 11.576808</td><td> 92.00</td><td> 92.482143</td><td> 11.8608000</td><td> 60.00</td><td> 124.00</td><td>  64.00</td><td>0.1507810</td><td>-0.11541569</td><td> 0.98548333</td></tr>\n",
       "\t<tr><th scope=row>waist</th><td>13</td><td>388</td><td> 37.896907</td><td>  5.762724</td><td> 37.00</td><td> 37.586538</td><td>  5.9304000</td><td> 26.00</td><td>  56.00</td><td>  30.00</td><td>0.4635657</td><td>-0.18363843</td><td> 0.29255796</td></tr>\n",
       "\t<tr><th scope=row>hip</th><td>14</td><td>388</td><td> 43.033505</td><td>  5.649213</td><td> 42.00</td><td> 42.612179</td><td>  4.4478000</td><td> 30.00</td><td>  64.00</td><td>  34.00</td><td>0.7921454</td><td> 0.83147372</td><td> 0.28679532</td></tr>\n",
       "\t<tr><th scope=row>time.ppn</th><td>15</td><td>387</td><td>336.124031</td><td>308.904281</td><td>240.00</td><td>294.678457</td><td>266.8680000</td><td>  5.00</td><td>1560.00</td><td>1555.00</td><td>1.2631878</td><td> 1.20068674</td><td>15.70248709</td></tr>\n",
       "</tbody>\n",
       "</table>\n"
      ],
      "text/latex": [
       "A psych: 15 × 13\n",
       "\\begin{tabular}{r|lllllllllllll}\n",
       "  & vars & n & mean & sd & median & trimmed & mad & min & max & range & skew & kurtosis & se\\\\\n",
       "  & <int> & <dbl> & <dbl> & <dbl> & <dbl> & <dbl> & <dbl> & <dbl> & <dbl> & <dbl> & <dbl> & <dbl> & <dbl>\\\\\n",
       "\\hline\n",
       "\tchol &  1 & 389 & 207.275064 &  44.714950 & 203.00 & 204.290735 &  37.0650000 &  78.00 &  443.00 &  365.00 & 0.9508887 &  2.58740526 &  2.26713794\\\\\n",
       "\tstab.glu &  2 & 390 & 107.338462 &  53.798188 &  90.00 &  95.032051 &  17.7912000 &  48.00 &  385.00 &  337.00 & 2.6903022 &  7.73431272 &  2.72417715\\\\\n",
       "\thdl &  3 & 389 &  50.267352 &  17.301317 &  46.00 &  48.325879 &  14.8260000 &  12.00 &  120.00 &  108.00 & 1.2178258 &  2.04136970 &  0.87721157\\\\\n",
       "\tratio &  4 & 389 &   4.526478 &   1.738480 &   4.20 &   4.360383 &   1.6308599 &   1.50 &   19.30 &   17.80 & 2.2236862 & 13.24995688 &  0.08814443\\\\\n",
       "\tglyhb &  5 & 390 &   5.589769 &   2.242595 &   4.84 &   5.111410 &   0.8302559 &   2.68 &   16.11 &   13.43 & 2.2288764 &  4.98480242 &  0.11355820\\\\\n",
       "\tage &  6 & 390 &  46.774359 &  16.435911 &  44.50 &  46.105769 &  20.0151000 &  19.00 &   92.00 &   73.00 & 0.3303502 & -0.68196799 &  0.83226473\\\\\n",
       "\theight &  7 & 385 &  65.984416 &   3.925712 &  66.00 &  65.948220 &   4.4478000 &  52.00 &   76.00 &   24.00 & 0.0167729 & -0.22853516 &  0.20007281\\\\\n",
       "\tweight &  8 & 389 & 177.349614 &  40.443560 & 173.00 & 174.501597 &  37.0650000 &  99.00 &  325.00 &  226.00 & 0.7385736 &  0.72015709 &  2.05056991\\\\\n",
       "\tbp.1s &  9 & 385 & 137.148052 &  22.997427 & 136.00 & 135.087379 &  20.7564000 &  90.00 &  250.00 &  160.00 & 1.0828997 &  2.25686505 &  1.17205743\\\\\n",
       "\tbp.1d & 10 & 385 &  83.285714 &  13.582366 &  82.00 &  82.990291 &  11.8608000 &  48.00 &  124.00 &   76.00 & 0.2433600 &  0.04508635 &  0.69222145\\\\\n",
       "\tbp.2s & 11 & 138 & 152.840580 &  21.709847 & 150.00 & 150.812500 &  17.7912000 & 110.00 &  238.00 &  128.00 & 1.1605373 &  2.33779901 &  1.84806492\\\\\n",
       "\tbp.2d & 12 & 138 &  92.731884 &  11.576808 &  92.00 &  92.482143 &  11.8608000 &  60.00 &  124.00 &   64.00 & 0.1507810 & -0.11541569 &  0.98548333\\\\\n",
       "\twaist & 13 & 388 &  37.896907 &   5.762724 &  37.00 &  37.586538 &   5.9304000 &  26.00 &   56.00 &   30.00 & 0.4635657 & -0.18363843 &  0.29255796\\\\\n",
       "\thip & 14 & 388 &  43.033505 &   5.649213 &  42.00 &  42.612179 &   4.4478000 &  30.00 &   64.00 &   34.00 & 0.7921454 &  0.83147372 &  0.28679532\\\\\n",
       "\ttime.ppn & 15 & 387 & 336.124031 & 308.904281 & 240.00 & 294.678457 & 266.8680000 &   5.00 & 1560.00 & 1555.00 & 1.2631878 &  1.20068674 & 15.70248709\\\\\n",
       "\\end{tabular}\n"
      ],
      "text/markdown": [
       "\n",
       "A psych: 15 × 13\n",
       "\n",
       "| <!--/--> | vars &lt;int&gt; | n &lt;dbl&gt; | mean &lt;dbl&gt; | sd &lt;dbl&gt; | median &lt;dbl&gt; | trimmed &lt;dbl&gt; | mad &lt;dbl&gt; | min &lt;dbl&gt; | max &lt;dbl&gt; | range &lt;dbl&gt; | skew &lt;dbl&gt; | kurtosis &lt;dbl&gt; | se &lt;dbl&gt; |\n",
       "|---|---|---|---|---|---|---|---|---|---|---|---|---|---|\n",
       "| chol |  1 | 389 | 207.275064 |  44.714950 | 203.00 | 204.290735 |  37.0650000 |  78.00 |  443.00 |  365.00 | 0.9508887 |  2.58740526 |  2.26713794 |\n",
       "| stab.glu |  2 | 390 | 107.338462 |  53.798188 |  90.00 |  95.032051 |  17.7912000 |  48.00 |  385.00 |  337.00 | 2.6903022 |  7.73431272 |  2.72417715 |\n",
       "| hdl |  3 | 389 |  50.267352 |  17.301317 |  46.00 |  48.325879 |  14.8260000 |  12.00 |  120.00 |  108.00 | 1.2178258 |  2.04136970 |  0.87721157 |\n",
       "| ratio |  4 | 389 |   4.526478 |   1.738480 |   4.20 |   4.360383 |   1.6308599 |   1.50 |   19.30 |   17.80 | 2.2236862 | 13.24995688 |  0.08814443 |\n",
       "| glyhb |  5 | 390 |   5.589769 |   2.242595 |   4.84 |   5.111410 |   0.8302559 |   2.68 |   16.11 |   13.43 | 2.2288764 |  4.98480242 |  0.11355820 |\n",
       "| age |  6 | 390 |  46.774359 |  16.435911 |  44.50 |  46.105769 |  20.0151000 |  19.00 |   92.00 |   73.00 | 0.3303502 | -0.68196799 |  0.83226473 |\n",
       "| height |  7 | 385 |  65.984416 |   3.925712 |  66.00 |  65.948220 |   4.4478000 |  52.00 |   76.00 |   24.00 | 0.0167729 | -0.22853516 |  0.20007281 |\n",
       "| weight |  8 | 389 | 177.349614 |  40.443560 | 173.00 | 174.501597 |  37.0650000 |  99.00 |  325.00 |  226.00 | 0.7385736 |  0.72015709 |  2.05056991 |\n",
       "| bp.1s |  9 | 385 | 137.148052 |  22.997427 | 136.00 | 135.087379 |  20.7564000 |  90.00 |  250.00 |  160.00 | 1.0828997 |  2.25686505 |  1.17205743 |\n",
       "| bp.1d | 10 | 385 |  83.285714 |  13.582366 |  82.00 |  82.990291 |  11.8608000 |  48.00 |  124.00 |   76.00 | 0.2433600 |  0.04508635 |  0.69222145 |\n",
       "| bp.2s | 11 | 138 | 152.840580 |  21.709847 | 150.00 | 150.812500 |  17.7912000 | 110.00 |  238.00 |  128.00 | 1.1605373 |  2.33779901 |  1.84806492 |\n",
       "| bp.2d | 12 | 138 |  92.731884 |  11.576808 |  92.00 |  92.482143 |  11.8608000 |  60.00 |  124.00 |   64.00 | 0.1507810 | -0.11541569 |  0.98548333 |\n",
       "| waist | 13 | 388 |  37.896907 |   5.762724 |  37.00 |  37.586538 |   5.9304000 |  26.00 |   56.00 |   30.00 | 0.4635657 | -0.18363843 |  0.29255796 |\n",
       "| hip | 14 | 388 |  43.033505 |   5.649213 |  42.00 |  42.612179 |   4.4478000 |  30.00 |   64.00 |   34.00 | 0.7921454 |  0.83147372 |  0.28679532 |\n",
       "| time.ppn | 15 | 387 | 336.124031 | 308.904281 | 240.00 | 294.678457 | 266.8680000 |   5.00 | 1560.00 | 1555.00 | 1.2631878 |  1.20068674 | 15.70248709 |\n",
       "\n"
      ],
      "text/plain": [
       "         vars n   mean       sd         median trimmed    mad         min   \n",
       "chol      1   389 207.275064  44.714950 203.00 204.290735  37.0650000  78.00\n",
       "stab.glu  2   390 107.338462  53.798188  90.00  95.032051  17.7912000  48.00\n",
       "hdl       3   389  50.267352  17.301317  46.00  48.325879  14.8260000  12.00\n",
       "ratio     4   389   4.526478   1.738480   4.20   4.360383   1.6308599   1.50\n",
       "glyhb     5   390   5.589769   2.242595   4.84   5.111410   0.8302559   2.68\n",
       "age       6   390  46.774359  16.435911  44.50  46.105769  20.0151000  19.00\n",
       "height    7   385  65.984416   3.925712  66.00  65.948220   4.4478000  52.00\n",
       "weight    8   389 177.349614  40.443560 173.00 174.501597  37.0650000  99.00\n",
       "bp.1s     9   385 137.148052  22.997427 136.00 135.087379  20.7564000  90.00\n",
       "bp.1d    10   385  83.285714  13.582366  82.00  82.990291  11.8608000  48.00\n",
       "bp.2s    11   138 152.840580  21.709847 150.00 150.812500  17.7912000 110.00\n",
       "bp.2d    12   138  92.731884  11.576808  92.00  92.482143  11.8608000  60.00\n",
       "waist    13   388  37.896907   5.762724  37.00  37.586538   5.9304000  26.00\n",
       "hip      14   388  43.033505   5.649213  42.00  42.612179   4.4478000  30.00\n",
       "time.ppn 15   387 336.124031 308.904281 240.00 294.678457 266.8680000   5.00\n",
       "         max     range   skew      kurtosis    se         \n",
       "chol      443.00  365.00 0.9508887  2.58740526  2.26713794\n",
       "stab.glu  385.00  337.00 2.6903022  7.73431272  2.72417715\n",
       "hdl       120.00  108.00 1.2178258  2.04136970  0.87721157\n",
       "ratio      19.30   17.80 2.2236862 13.24995688  0.08814443\n",
       "glyhb      16.11   13.43 2.2288764  4.98480242  0.11355820\n",
       "age        92.00   73.00 0.3303502 -0.68196799  0.83226473\n",
       "height     76.00   24.00 0.0167729 -0.22853516  0.20007281\n",
       "weight    325.00  226.00 0.7385736  0.72015709  2.05056991\n",
       "bp.1s     250.00  160.00 1.0828997  2.25686505  1.17205743\n",
       "bp.1d     124.00   76.00 0.2433600  0.04508635  0.69222145\n",
       "bp.2s     238.00  128.00 1.1605373  2.33779901  1.84806492\n",
       "bp.2d     124.00   64.00 0.1507810 -0.11541569  0.98548333\n",
       "waist      56.00   30.00 0.4635657 -0.18363843  0.29255796\n",
       "hip        64.00   34.00 0.7921454  0.83147372  0.28679532\n",
       "time.ppn 1560.00 1555.00 1.2631878  1.20068674 15.70248709"
      ]
     },
     "metadata": {},
     "output_type": "display_data"
    }
   ],
   "source": [
    "# Descriptives: continuous variables\n",
    "describe(data[c(2:6,8,10:11,13:19)])"
   ]
  },
  {
   "cell_type": "code",
   "execution_count": 5,
   "metadata": {},
   "outputs": [
    {
     "data": {
      "text/plain": [
       "$location\n",
       "x\n",
       "Buckingham     Louisa \n",
       "       190        200 \n",
       "\n",
       "$gender\n",
       "x\n",
       "female   male \n",
       "   228    162 \n",
       "\n",
       "$frame\n",
       "x\n",
       "        large medium  small \n",
       "    11     99    178    102 \n",
       "\n",
       "$diabetes\n",
       "x\n",
       " no yes \n",
       "330  60 \n"
      ]
     },
     "metadata": {},
     "output_type": "display_data"
    }
   ],
   "source": [
    "# Descriptives: categorical variables\n",
    "lapply(data[c(7,9,12,20)], function(x) table(x))"
   ]
  },
  {
   "cell_type": "code",
   "execution_count": 6,
   "metadata": {},
   "outputs": [
    {
     "name": "stderr",
     "output_type": "stream",
     "text": [
      "Warning message:\n",
      "\"Removed 530 rows containing non-finite values (stat_bin).\"\n"
     ]
    },
    {
     "data": {
      "image/png": "[encoded data removed]",
      "text/plain": [
       "plot without title"
      ]
     },
     "metadata": {
      "image/png": {
       "height": 420,
       "width": 420
      },
      "text/plain": {
       "height": 420,
       "width": 420
      }
     },
     "output_type": "display_data"
    }
   ],
   "source": [
    "# View distributions of continuous variables\n",
    "ggplot(gather(data[c(2:6,8,10:11,13:19)], cols, value), aes(x = value)) + \n",
    "  geom_histogram(binwidth = 5,fill=\"light blue\",color=\"black\") + \n",
    "  facet_wrap(.~cols,scales=\"free\")"
   ]
  },
  {
   "cell_type": "code",
   "execution_count": 7,
   "metadata": {},
   "outputs": [
    {
     "name": "stderr",
     "output_type": "stream",
     "text": [
      "Warning message:\n",
      "\"attributes are not identical across measure variables;\n",
      "they will be dropped\"\n"
     ]
    },
    {
     "data": {
      "image/png": "[encoded data removed]",
      "text/plain": [
       "plot without title"
      ]
     },
     "metadata": {
      "image/png": {
       "height": 420,
       "width": 420
      },
      "text/plain": {
       "height": 420,
       "width": 420
      }
     },
     "output_type": "display_data"
    }
   ],
   "source": [
    "# View distributions of categorical variables\n",
    "ggplot(gather(data[c(7,9,12,20)], cols, value), aes(x = value)) + \n",
    "  geom_bar(fill=\"light blue\",color=\"black\") + facet_wrap(.~cols,scales=\"free\")"
   ]
  },
  {
   "cell_type": "markdown",
   "metadata": {},
   "source": [
    "### Handling missing data"
   ]
  },
  {
   "cell_type": "code",
   "execution_count": 8,
   "metadata": {},
   "outputs": [
    {
     "data": {
      "text/html": [
       "<style>\n",
       ".dl-inline {width: auto; margin:0; padding: 0}\n",
       ".dl-inline>dt, .dl-inline>dd {float: none; width: auto; display: inline-block}\n",
       ".dl-inline>dt::after {content: \":\\0020\"; padding-right: .5ex}\n",
       ".dl-inline>dt:not(:first-of-type) {padding-left: .5ex}\n",
       "</style><dl class=dl-inline><dt>id</dt><dd>0</dd><dt>chol</dt><dd>1</dd><dt>stab.glu</dt><dd>0</dd><dt>hdl</dt><dd>1</dd><dt>ratio</dt><dd>1</dd><dt>glyhb</dt><dd>0</dd><dt>location</dt><dd>0</dd><dt>age</dt><dd>0</dd><dt>gender</dt><dd>0</dd><dt>height</dt><dd>5</dd><dt>weight</dt><dd>1</dd><dt>frame</dt><dd>0</dd><dt>bp.1s</dt><dd>5</dd><dt>bp.1d</dt><dd>5</dd><dt>bp.2s</dt><dd>252</dd><dt>bp.2d</dt><dd>252</dd><dt>waist</dt><dd>2</dd><dt>hip</dt><dd>2</dd><dt>time.ppn</dt><dd>3</dd><dt>diabetes</dt><dd>0</dd></dl>\n"
      ],
      "text/latex": [
       "\\begin{description*}\n",
       "\\item[id] 0\n",
       "\\item[chol] 1\n",
       "\\item[stab.glu] 0\n",
       "\\item[hdl] 1\n",
       "\\item[ratio] 1\n",
       "\\item[glyhb] 0\n",
       "\\item[location] 0\n",
       "\\item[age] 0\n",
       "\\item[gender] 0\n",
       "\\item[height] 5\n",
       "\\item[weight] 1\n",
       "\\item[frame] 0\n",
       "\\item[bp.1s] 5\n",
       "\\item[bp.1d] 5\n",
       "\\item[bp.2s] 252\n",
       "\\item[bp.2d] 252\n",
       "\\item[waist] 2\n",
       "\\item[hip] 2\n",
       "\\item[time.ppn] 3\n",
       "\\item[diabetes] 0\n",
       "\\end{description*}\n"
      ],
      "text/markdown": [
       "id\n",
       ":   0chol\n",
       ":   1stab.glu\n",
       ":   0hdl\n",
       ":   1ratio\n",
       ":   1glyhb\n",
       ":   0location\n",
       ":   0age\n",
       ":   0gender\n",
       ":   0height\n",
       ":   5weight\n",
       ":   1frame\n",
       ":   0bp.1s\n",
       ":   5bp.1d\n",
       ":   5bp.2s\n",
       ":   252bp.2d\n",
       ":   252waist\n",
       ":   2hip\n",
       ":   2time.ppn\n",
       ":   3diabetes\n",
       ":   0\n",
       "\n"
      ],
      "text/plain": [
       "      id     chol stab.glu      hdl    ratio    glyhb location      age \n",
       "       0        1        0        1        1        0        0        0 \n",
       "  gender   height   weight    frame    bp.1s    bp.1d    bp.2s    bp.2d \n",
       "       0        5        1        0        5        5      252      252 \n",
       "   waist      hip time.ppn diabetes \n",
       "       2        2        3        0 "
      ]
     },
     "metadata": {},
     "output_type": "display_data"
    }
   ],
   "source": [
    "# Look at number of NA per column\n",
    "sapply(data, function(y) sum(length(which(is.na(y)))))"
   ]
  },
  {
   "cell_type": "code",
   "execution_count": 9,
   "metadata": {},
   "outputs": [
    {
     "data": {
      "text/html": [
       "<style>\n",
       ".dl-inline {width: auto; margin:0; padding: 0}\n",
       ".dl-inline>dt, .dl-inline>dd {float: none; width: auto; display: inline-block}\n",
       ".dl-inline>dt::after {content: \":\\0020\"; padding-right: .5ex}\n",
       ".dl-inline>dt:not(:first-of-type) {padding-left: .5ex}\n",
       "</style><dl class=dl-inline><dt>id</dt><dd>0</dd><dt>chol</dt><dd>0</dd><dt>stab.glu</dt><dd>0</dd><dt>hdl</dt><dd>0</dd><dt>ratio</dt><dd>0</dd><dt>glyhb</dt><dd>0</dd><dt>location</dt><dd>0</dd><dt>age</dt><dd>0</dd><dt>gender</dt><dd>0</dd><dt>height</dt><dd>0</dd><dt>weight</dt><dd>0</dd><dt>frame</dt><dd>0</dd><dt>bp.1s</dt><dd>0</dd><dt>bp.1d</dt><dd>0</dd><dt>bp.2s</dt><dd>252</dd><dt>bp.2d</dt><dd>252</dd><dt>waist</dt><dd>0</dd><dt>hip</dt><dd>0</dd><dt>time.ppn</dt><dd>0</dd><dt>diabetes</dt><dd>0</dd></dl>\n"
      ],
      "text/latex": [
       "\\begin{description*}\n",
       "\\item[id] 0\n",
       "\\item[chol] 0\n",
       "\\item[stab.glu] 0\n",
       "\\item[hdl] 0\n",
       "\\item[ratio] 0\n",
       "\\item[glyhb] 0\n",
       "\\item[location] 0\n",
       "\\item[age] 0\n",
       "\\item[gender] 0\n",
       "\\item[height] 0\n",
       "\\item[weight] 0\n",
       "\\item[frame] 0\n",
       "\\item[bp.1s] 0\n",
       "\\item[bp.1d] 0\n",
       "\\item[bp.2s] 252\n",
       "\\item[bp.2d] 252\n",
       "\\item[waist] 0\n",
       "\\item[hip] 0\n",
       "\\item[time.ppn] 0\n",
       "\\item[diabetes] 0\n",
       "\\end{description*}\n"
      ],
      "text/markdown": [
       "id\n",
       ":   0chol\n",
       ":   0stab.glu\n",
       ":   0hdl\n",
       ":   0ratio\n",
       ":   0glyhb\n",
       ":   0location\n",
       ":   0age\n",
       ":   0gender\n",
       ":   0height\n",
       ":   0weight\n",
       ":   0frame\n",
       ":   0bp.1s\n",
       ":   0bp.1d\n",
       ":   0bp.2s\n",
       ":   252bp.2d\n",
       ":   252waist\n",
       ":   0hip\n",
       ":   0time.ppn\n",
       ":   0diabetes\n",
       ":   0\n",
       "\n"
      ],
      "text/plain": [
       "      id     chol stab.glu      hdl    ratio    glyhb location      age \n",
       "       0        0        0        0        0        0        0        0 \n",
       "  gender   height   weight    frame    bp.1s    bp.1d    bp.2s    bp.2d \n",
       "       0        0        0        0        0        0      252      252 \n",
       "   waist      hip time.ppn diabetes \n",
       "       0        0        0        0 "
      ]
     },
     "metadata": {},
     "output_type": "display_data"
    }
   ],
   "source": [
    "# Impute missing values with medians\n",
    "data_imputed <- data %>% \n",
    "  dplyr::mutate_at(vars(chol,hdl,ratio,height,weight,bp.1s,bp.1d,waist,hip,time.ppn), \n",
    "            ~ifelse(is.na(.), median(., na.rm = TRUE), .))\n",
    "sapply(data_imputed, function(y) sum(length(which(is.na(y)))))"
   ]
  },
  {
   "cell_type": "markdown",
   "metadata": {},
   "source": [
    "### Differences by diagnosis"
   ]
  },
  {
   "cell_type": "code",
   "execution_count": 10,
   "metadata": {},
   "outputs": [],
   "source": [
    "# Get long form data\n",
    "data_imputed$glyhb <- NULL\n",
    "data_continuous <- data_imputed[c(1:5,7,9,10,12:19)]\n",
    "data_long <- gather(data_continuous, feature, value, chol:time.ppn, factor_key=TRUE)"
   ]
  },
  {
   "cell_type": "code",
   "execution_count": 11,
   "metadata": {},
   "outputs": [
    {
     "name": "stderr",
     "output_type": "stream",
     "text": [
      "Warning message:\n",
      "\"Removed 504 rows containing non-finite values (stat_bin).\"\n"
     ]
    },
    {
     "data": {
      "image/png": "[encoded data removed]",
      "text/plain": [
       "plot without title"
      ]
     },
     "metadata": {
      "image/png": {
       "height": 420,
       "width": 420
      },
      "text/plain": {
       "height": 420,
       "width": 420
      }
     },
     "output_type": "display_data"
    }
   ],
   "source": [
    "# Plot features by diabetes\n",
    "ggplot(data_long,aes(x=value,color=diabetes))+\n",
    "  geom_freqpoly(bins=30)+\n",
    "  facet_wrap(~feature,scales=\"free\")"
   ]
  },
  {
   "cell_type": "markdown",
   "metadata": {},
   "source": [
    "### Running inferential statistics"
   ]
  },
  {
   "cell_type": "markdown",
   "metadata": {},
   "source": [
    "Differences will be compared between patients with diabetes and patients without diabetes.\n",
    "\n",
    "Categorical variables will be compared using Fisher's Exact Tests.\n",
    "Continuous variables will be compared using Wilcoxon Rank Sum Tests."
   ]
  },
  {
   "cell_type": "code",
   "execution_count": 12,
   "metadata": {},
   "outputs": [
    {
     "data": {
      "text/html": [
       "<style>\n",
       ".dl-inline {width: auto; margin:0; padding: 0}\n",
       ".dl-inline>dt, .dl-inline>dd {float: none; width: auto; display: inline-block}\n",
       ".dl-inline>dt::after {content: \":\\0020\"; padding-right: .5ex}\n",
       ".dl-inline>dt:not(:first-of-type) {padding-left: .5ex}\n",
       "</style><dl class=dl-inline><dt>chol</dt><dd>2e-04</dd><dt>stab.glu</dt><dd>0</dd><dt>hdl</dt><dd>0.0047</dd><dt>ratio</dt><dd>0</dd><dt>location</dt><dd>0.6745</dd><dt>age</dt><dd>0</dd><dt>gender</dt><dd>0.7772</dd><dt>height</dt><dd>0.6625</dd><dt>weight</dt><dd>0.0013</dd><dt>frame</dt><dd>0.0345</dd><dt>bp.1s</dt><dd>0</dd><dt>bp.1d</dt><dd>0.2531</dd><dt>bp.2s</dt><dd>0.1556</dd><dt>bp.2d</dt><dd>0.1532</dd><dt>waist</dt><dd>0</dd><dt>hip</dt><dd>0.0038</dd><dt>time.ppn</dt><dd>0.3841</dd></dl>\n"
      ],
      "text/latex": [
       "\\begin{description*}\n",
       "\\item[chol] 2e-04\n",
       "\\item[stab.glu] 0\n",
       "\\item[hdl] 0.0047\n",
       "\\item[ratio] 0\n",
       "\\item[location] 0.6745\n",
       "\\item[age] 0\n",
       "\\item[gender] 0.7772\n",
       "\\item[height] 0.6625\n",
       "\\item[weight] 0.0013\n",
       "\\item[frame] 0.0345\n",
       "\\item[bp.1s] 0\n",
       "\\item[bp.1d] 0.2531\n",
       "\\item[bp.2s] 0.1556\n",
       "\\item[bp.2d] 0.1532\n",
       "\\item[waist] 0\n",
       "\\item[hip] 0.0038\n",
       "\\item[time.ppn] 0.3841\n",
       "\\end{description*}\n"
      ],
      "text/markdown": [
       "chol\n",
       ":   2e-04stab.glu\n",
       ":   0hdl\n",
       ":   0.0047ratio\n",
       ":   0location\n",
       ":   0.6745age\n",
       ":   0gender\n",
       ":   0.7772height\n",
       ":   0.6625weight\n",
       ":   0.0013frame\n",
       ":   0.0345bp.1s\n",
       ":   0bp.1d\n",
       ":   0.2531bp.2s\n",
       ":   0.1556bp.2d\n",
       ":   0.1532waist\n",
       ":   0hip\n",
       ":   0.0038time.ppn\n",
       ":   0.3841\n",
       "\n"
      ],
      "text/plain": [
       "    chol stab.glu      hdl    ratio location      age   gender   height \n",
       "  0.0002   0.0000   0.0047   0.0000   0.6745   0.0000   0.7772   0.6625 \n",
       "  weight    frame    bp.1s    bp.1d    bp.2s    bp.2d    waist      hip \n",
       "  0.0013   0.0345   0.0000   0.2531   0.1556   0.1532   0.0000   0.0038 \n",
       "time.ppn \n",
       "  0.3841 "
      ]
     },
     "metadata": {},
     "output_type": "display_data"
    }
   ],
   "source": [
    "# Function: run either a Fisher's Exact Test or a Wilcoxon Rank Sum Test\n",
    "report_p_values <- function(x,y) {\n",
    "  variable <- NULL\n",
    "  for(i in 1:ncol(x)){\n",
    "    if(is.factor(x[,i])){\n",
    "      variable[[i]] <- fisher.test(table(x[,i],y))$p.value\n",
    "    } else {\n",
    "      variable[[i]] <- wilcox.test(x[,i] ~ y)$p.value\n",
    "    }\n",
    "  }\n",
    "  names(variable) <- colnames(x)\n",
    "  return(round(variable,4))\n",
    "}\n",
    "\n",
    "report_p_values(data_imputed[2:18],data_imputed$diabetes)"
   ]
  },
  {
   "cell_type": "markdown",
   "metadata": {},
   "source": [
    "### Logistic regression"
   ]
  },
  {
   "cell_type": "code",
   "execution_count": 13,
   "metadata": {},
   "outputs": [
    {
     "data": {
      "text/html": [
       "<style>\n",
       ".dl-inline {width: auto; margin:0; padding: 0}\n",
       ".dl-inline>dt, .dl-inline>dd {float: none; width: auto; display: inline-block}\n",
       ".dl-inline>dt::after {content: \":\\0020\"; padding-right: .5ex}\n",
       ".dl-inline>dt:not(:first-of-type) {padding-left: .5ex}\n",
       "</style><dl class=dl-inline><dt>(Intercept)</dt><dd>-24.6087219183808</dd><dt>id</dt><dd>-2.08871366440495e-05</dd><dt>chol</dt><dd>0.0418555831635397</dd><dt>stab.glu</dt><dd>0.110238035177435</dd><dt>hdl</dt><dd>-0.0408515993816435</dd><dt>ratio</dt><dd>-0.530416617400285</dd><dt>locationLouisa</dt><dd>0.529582198767584</dd><dt>age</dt><dd>0.052803794944813</dd><dt>gendermale</dt><dd>-2.39184672676358</dd><dt>height</dt><dd>-0.0445337135123736</dd><dt>weight</dt><dd>0.0654531827413947</dd><dt>framelarge</dt><dd>6.21231635363081</dd><dt>framemedium</dt><dd>6.82855163436191</dd><dt>framesmall</dt><dd>6.52814599827524</dd><dt>bp.1s</dt><dd>0.0139281616373891</dd><dt>bp.1d</dt><dd>-0.0618214204735842</dd><dt>bp.2s</dt><dd>-0.0202851366279304</dd><dt>bp.2d</dt><dd>0.130579648140142</dd><dt>waist</dt><dd>-0.0815305986246647</dd><dt>hip</dt><dd>-0.329030187470076</dd><dt>time.ppn</dt><dd>0.00242102007780507</dd></dl>\n"
      ],
      "text/latex": [
       "\\begin{description*}\n",
       "\\item[(Intercept)] -24.6087219183808\n",
       "\\item[id] -2.08871366440495e-05\n",
       "\\item[chol] 0.0418555831635397\n",
       "\\item[stab.glu] 0.110238035177435\n",
       "\\item[hdl] -0.0408515993816435\n",
       "\\item[ratio] -0.530416617400285\n",
       "\\item[locationLouisa] 0.529582198767584\n",
       "\\item[age] 0.052803794944813\n",
       "\\item[gendermale] -2.39184672676358\n",
       "\\item[height] -0.0445337135123736\n",
       "\\item[weight] 0.0654531827413947\n",
       "\\item[framelarge] 6.21231635363081\n",
       "\\item[framemedium] 6.82855163436191\n",
       "\\item[framesmall] 6.52814599827524\n",
       "\\item[bp.1s] 0.0139281616373891\n",
       "\\item[bp.1d] -0.0618214204735842\n",
       "\\item[bp.2s] -0.0202851366279304\n",
       "\\item[bp.2d] 0.130579648140142\n",
       "\\item[waist] -0.0815305986246647\n",
       "\\item[hip] -0.329030187470076\n",
       "\\item[time.ppn] 0.00242102007780507\n",
       "\\end{description*}\n"
      ],
      "text/markdown": [
       "(Intercept)\n",
       ":   -24.6087219183808id\n",
       ":   -2.08871366440495e-05chol\n",
       ":   0.0418555831635397stab.glu\n",
       ":   0.110238035177435hdl\n",
       ":   -0.0408515993816435ratio\n",
       ":   -0.530416617400285locationLouisa\n",
       ":   0.529582198767584age\n",
       ":   0.052803794944813gendermale\n",
       ":   -2.39184672676358height\n",
       ":   -0.0445337135123736weight\n",
       ":   0.0654531827413947framelarge\n",
       ":   6.21231635363081framemedium\n",
       ":   6.82855163436191framesmall\n",
       ":   6.52814599827524bp.1s\n",
       ":   0.0139281616373891bp.1d\n",
       ":   -0.0618214204735842bp.2s\n",
       ":   -0.0202851366279304bp.2d\n",
       ":   0.130579648140142waist\n",
       ":   -0.0815305986246647hip\n",
       ":   -0.329030187470076time.ppn\n",
       ":   0.00242102007780507\n",
       "\n"
      ],
      "text/plain": [
       "   (Intercept)             id           chol       stab.glu            hdl \n",
       " -2.460872e+01  -2.088714e-05   4.185558e-02   1.102380e-01  -4.085160e-02 \n",
       "         ratio locationLouisa            age     gendermale         height \n",
       " -5.304166e-01   5.295822e-01   5.280379e-02  -2.391847e+00  -4.453371e-02 \n",
       "        weight     framelarge    framemedium     framesmall          bp.1s \n",
       "  6.545318e-02   6.212316e+00   6.828552e+00   6.528146e+00   1.392816e-02 \n",
       "         bp.1d          bp.2s          bp.2d          waist            hip \n",
       " -6.182142e-02  -2.028514e-02   1.305796e-01  -8.153060e-02  -3.290302e-01 \n",
       "      time.ppn \n",
       "  2.421020e-03 "
      ]
     },
     "metadata": {},
     "output_type": "display_data"
    }
   ],
   "source": [
    "# Full model\n",
    "full.model <- glm(diabetes ~., data = data_imputed, family = binomial)\n",
    "coef(full.model)"
   ]
  },
  {
   "cell_type": "code",
   "execution_count": 14,
   "metadata": {},
   "outputs": [
    {
     "data": {
      "text/html": [
       "&lt;NA&gt;"
      ],
      "text/latex": [
       "<NA>"
      ],
      "text/markdown": [
       "&lt;NA&gt;"
      ],
      "text/plain": [
       "[1] NA"
      ]
     },
     "metadata": {},
     "output_type": "display_data"
    }
   ],
   "source": [
    "# Make predictions\n",
    "probabilities <- full.model %>% predict(data_imputed, type = \"response\")\n",
    "predicted.classes <- ifelse(probabilities > 0.5,1,0)\n",
    "# Prediction accuracy\n",
    "observed.classes <- data_imputed$diabetes\n",
    "mean(predicted.classes == observed.classes)"
   ]
  },
  {
   "cell_type": "code",
   "execution_count": 15,
   "metadata": {},
   "outputs": [
    {
     "ename": "ERROR",
     "evalue": "Error in stepAIC(., trace = FALSE): number of rows in use has changed: remove missing values?\n",
     "output_type": "error",
     "traceback": [
      "Error in stepAIC(., trace = FALSE): number of rows in use has changed: remove missing values?\nTraceback:\n",
      "1. full.model %>% stepAIC(trace = FALSE)",
      "2. withVisible(eval(quote(`_fseq`(`_lhs`)), env, env))",
      "3. eval(quote(`_fseq`(`_lhs`)), env, env)",
      "4. eval(quote(`_fseq`(`_lhs`)), env, env)",
      "5. `_fseq`(`_lhs`)",
      "6. freduce(value, `_function_list`)",
      "7. withVisible(function_list[[k]](value))",
      "8. function_list[[k]](value)",
      "9. stepAIC(., trace = FALSE)",
      "10. stop(\"number of rows in use has changed: remove missing values?\")"
     ]
    }
   ],
   "source": [
    "# Stepwise model\n",
    "library(MASS)\n",
    "step.model <- full.model %>% stepAIC(trace = FALSE)\n",
    "coef(step.model)"
   ]
  },
  {
   "cell_type": "code",
   "execution_count": null,
   "metadata": {},
   "outputs": [],
   "source": [
    "# Make predictions\n",
    "probabilities <- predict(step.model, data_imputed, type = \"response\")\n",
    "predicted.classes <- ifelse(probabilities > 0.5, 1, 0)\n",
    "# Prediction accuracy\n",
    "observed.classes <- data_imputed$diabetes\n",
    "mean(predicted.classes == observed.classes)"
   ]
  },
  {
   "cell_type": "markdown",
   "metadata": {},
   "source": [
    "Conclusion: final prediction model will use stepwise model, since accuracy is not affected"
   ]
  },
  {
   "cell_type": "code",
   "execution_count": null,
   "metadata": {},
   "outputs": [],
   "source": [
    "# Final analysis: use previously missing data as test data\n",
    "summary(data_missing_diag)\n",
    "data_missing_diag <- data_missing_diag[c(2:5,7:14,17:20)]"
   ]
  },
  {
   "cell_type": "code",
   "execution_count": 16,
   "metadata": {},
   "outputs": [
    {
     "ename": "ERROR",
     "evalue": "Error in predict(step.model, data_missing_diag, type = \"response\"): object 'step.model' not found\n",
     "output_type": "error",
     "traceback": [
      "Error in predict(step.model, data_missing_diag, type = \"response\"): object 'step.model' not found\nTraceback:\n",
      "1. predict(step.model, data_missing_diag, type = \"response\")"
     ]
    }
   ],
   "source": [
    "# Predict diagnosis\n",
    "probabilities <- predict(step.model, data_missing_diag, type = \"response\")\n",
    "predicted.classes <- ifelse(probabilities > 0.5, 1, 0)\n",
    "predicted.classes"
   ]
  },
  {
   "cell_type": "markdown",
   "metadata": {},
   "source": [
    "Conclusion: for the patients with missing data, they are likely non-diabetic"
   ]
  },
  {
   "cell_type": "markdown",
   "metadata": {},
   "source": [
    "### Compare BP changes from time 1 to time 2"
   ]
  },
  {
   "cell_type": "code",
   "execution_count": 17,
   "metadata": {},
   "outputs": [],
   "source": [
    "# Create effect size measurement for Wilcoxon test\n",
    "rFromWilcox<-function(wilcoxModel,N) {\n",
    "  z<-qnorm(wilcoxModel$p.value/2)\n",
    "  r<-z/sqrt(N)\n",
    "  cat(wilcoxModel$data.name,\"Effect Size, r=\",r)\n",
    "}"
   ]
  },
  {
   "cell_type": "code",
   "execution_count": 18,
   "metadata": {},
   "outputs": [
    {
     "name": "stderr",
     "output_type": "stream",
     "text": [
      "Warning message:\n",
      "\"Removed 252 rows containing missing values (geom_point).\"\n"
     ]
    },
    {
     "data": {
      "image/png": "[encoded data removed]",
      "text/plain": [
       "plot without title"
      ]
     },
     "metadata": {
      "image/png": {
       "height": 420,
       "width": 420
      },
      "text/plain": {
       "height": 420,
       "width": 420
      }
     },
     "output_type": "display_data"
    }
   ],
   "source": [
    "# Systolic blood pressure change from time 1 to time 2\n",
    "ggplot(data,aes(x=bp.1s,y=bp.2s))+\n",
    "  geom_point(size=3,alpha=.3)+\n",
    "  annotate(geom=\"text\",x=110,y=230,label=\"Increase in BP\",color=\"red\",size=5)+\n",
    "  annotate(geom=\"text\",x=230,y=120,label=\"Decrease in BP\",color=\"red\",size=5)+\n",
    "  geom_abline(intercept=0,slope=1,linetype=\"dashed\",color=\"red\",size=2)"
   ]
  },
  {
   "cell_type": "code",
   "execution_count": 19,
   "metadata": {},
   "outputs": [
    {
     "name": "stdout",
     "output_type": "stream",
     "text": [
      "P value:  0.0004770713    data$bp.1s and data$bp.2s Effect Size, r= -0.2973703"
     ]
    }
   ],
   "source": [
    "x <- wilcox.test(data$bp.1s,data$bp.2s,paired=TRUE)\n",
    "N <- nrow(subset(data,data$bp.1s>0 & data$bp.2s>0))\n",
    "cat(\"P value: \", x$p.value, \"   \")\n",
    "rFromWilcox(x,N)"
   ]
  },
  {
   "cell_type": "markdown",
   "metadata": {},
   "source": [
    "Conclusion: There was a change in systolic BP from time 1 to time 2 "
   ]
  },
  {
   "cell_type": "code",
   "execution_count": 20,
   "metadata": {},
   "outputs": [
    {
     "name": "stderr",
     "output_type": "stream",
     "text": [
      "Warning message:\n",
      "\"Removed 252 rows containing missing values (geom_point).\"\n"
     ]
    },
    {
     "data": {
      "image/png": "[encoded data removed]",
      "text/plain": [
       "plot without title"
      ]
     },
     "metadata": {
      "image/png": {
       "height": 420,
       "width": 420
      },
      "text/plain": {
       "height": 420,
       "width": 420
      }
     },
     "output_type": "display_data"
    }
   ],
   "source": [
    "# Diastolic blood pressure change from time 1 to time 2\n",
    "ggplot(data,aes(x=bp.1d,y=bp.2d))+\n",
    "  geom_point(size=3,alpha=.3)+\n",
    "  annotate(geom=\"text\",x=60,y=120,label=\"Increase in BP\",color=\"red\",size=5)+\n",
    "  annotate(geom=\"text\",x=110,y=65,label=\"Decrease in BP\",color=\"red\",size=5)+\n",
    "  geom_abline(intercept=0,slope=1,linetype=\"dashed\",color=\"red\",size=2)"
   ]
  },
  {
   "cell_type": "code",
   "execution_count": 21,
   "metadata": {},
   "outputs": [
    {
     "name": "stdout",
     "output_type": "stream",
     "text": [
      "P value:  0.03584831    data$bp.1d and data$bp.2d Effect Size, r= -0.1786484"
     ]
    }
   ],
   "source": [
    "# Compare a change in diastolic BP\n",
    "x <- wilcox.test(data$bp.1d,data$bp.2d,paired=TRUE)\n",
    "N <- nrow(subset(data,data$bp.1d>0 & data$bp.2d>0))\n",
    "cat(\"P value: \", x$p.value, \"   \")\n",
    "rFromWilcox(x,N)"
   ]
  },
  {
   "cell_type": "markdown",
   "metadata": {},
   "source": [
    "Conclusion: There was a small change in diastolic BP from time 1 to time 2"
   ]
  }
 ],
 "metadata": {
  "kernelspec": {
   "display_name": "R",
   "language": "R",
   "name": "ir"
  },
  "language_info": {
   "codemirror_mode": "r",
   "file_extension": ".r",
   "mimetype": "text/x-r-source",
   "name": "R",
   "pygments_lexer": "r",
   "version": "3.6.1"
  }
 },
 "nbformat": 4,
 "nbformat_minor": 4
}
